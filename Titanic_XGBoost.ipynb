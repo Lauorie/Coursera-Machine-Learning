{
  "nbformat": 4,
  "nbformat_minor": 0,
  "metadata": {
    "colab": {
      "provenance": [],
      "collapsed_sections": [],
      "mount_file_id": "1whjJ3qYeMz1ix5cWo1TwzlYZdQsB3yBC",
      "authorship_tag": "ABX9TyMDCuAcFUPsoou3/SQLvq8v",
      "include_colab_link": true
    },
    "kernelspec": {
      "name": "python3",
      "display_name": "Python 3"
    },
    "language_info": {
      "name": "python"
    }
  },
  "cells": [
    {
      "cell_type": "markdown",
      "metadata": {
        "id": "view-in-github",
        "colab_type": "text"
      },
      "source": [
        "<a href=\"https://colab.research.google.com/github/Lauorie/Coursera-Machine-Learning/blob/main/Titanic_XGBoost.ipynb\" target=\"_parent\"><img src=\"https://colab.research.google.com/assets/colab-badge.svg\" alt=\"Open In Colab\"/></a>"
      ]
    },
    {
      "cell_type": "code",
      "execution_count": null,
      "metadata": {
        "id": "OAzfDCeRZMJ-"
      },
      "outputs": [],
      "source": [
        "import pandas as pd\n",
        "import numpy as np\n",
        "import lightgbm as lgb\n",
        "import xgboost as xgb\n",
        "from lightgbm import LGBMClassifier\n",
        "from sklearn.model_selection import KFold,GridSearchCV\n",
        "\n",
        "from xgboost.sklearn import XGBClassifier"
      ]
    },
    {
      "cell_type": "code",
      "source": [
        "from google.colab import drive\n",
        "drive.mount('/content/drive')"
      ],
      "metadata": {
        "colab": {
          "base_uri": "https://localhost:8080/"
        },
        "id": "TlDhqoZxki1-",
        "outputId": "c263255a-2227-469f-be05-dbedc1e7dc18"
      },
      "execution_count": null,
      "outputs": [
        {
          "output_type": "stream",
          "name": "stdout",
          "text": [
            "Drive already mounted at /content/drive; to attempt to forcibly remount, call drive.mount(\"/content/drive\", force_remount=True).\n"
          ]
        }
      ]
    },
    {
      "cell_type": "code",
      "source": [
        "train_data = pd.read_csv(\"/content/drive/MyDrive/My_Dataset/train.csv\")\n",
        "test_data = pd.read_csv(\"/content/drive/MyDrive/My_Dataset/test.csv\")\n",
        "features = [\"Pclass\", \"Sex\", \"SibSp\", \"Parch\"]  #features\n",
        "X_train = pd.get_dummies(train_data[features])    #get_dummies creates one-hot vector \n",
        "y_train = train_data['Survived']\n",
        "X_test = pd.get_dummies(test_data[features])"
      ],
      "metadata": {
        "id": "LpbE0-dcbO2D"
      },
      "execution_count": null,
      "outputs": []
    },
    {
      "cell_type": "code",
      "source": [
        "X_train.head()"
      ],
      "metadata": {
        "colab": {
          "base_uri": "https://localhost:8080/",
          "height": 206
        },
        "id": "WeaGNNbjnuQL",
        "outputId": "f83950bf-a534-44c8-916e-bfb43c451772"
      },
      "execution_count": null,
      "outputs": [
        {
          "output_type": "execute_result",
          "data": {
            "text/plain": [
              "   Pclass  SibSp  Parch  Sex_female  Sex_male\n",
              "0       3      1      0           0         1\n",
              "1       1      1      0           1         0\n",
              "2       3      0      0           1         0\n",
              "3       1      1      0           1         0\n",
              "4       3      0      0           0         1"
            ],
            "text/html": [
              "\n",
              "  <div id=\"df-fce34141-91a8-4d0f-a0df-b1a923f06421\">\n",
              "    <div class=\"colab-df-container\">\n",
              "      <div>\n",
              "<style scoped>\n",
              "    .dataframe tbody tr th:only-of-type {\n",
              "        vertical-align: middle;\n",
              "    }\n",
              "\n",
              "    .dataframe tbody tr th {\n",
              "        vertical-align: top;\n",
              "    }\n",
              "\n",
              "    .dataframe thead th {\n",
              "        text-align: right;\n",
              "    }\n",
              "</style>\n",
              "<table border=\"1\" class=\"dataframe\">\n",
              "  <thead>\n",
              "    <tr style=\"text-align: right;\">\n",
              "      <th></th>\n",
              "      <th>Pclass</th>\n",
              "      <th>SibSp</th>\n",
              "      <th>Parch</th>\n",
              "      <th>Sex_female</th>\n",
              "      <th>Sex_male</th>\n",
              "    </tr>\n",
              "  </thead>\n",
              "  <tbody>\n",
              "    <tr>\n",
              "      <th>0</th>\n",
              "      <td>3</td>\n",
              "      <td>1</td>\n",
              "      <td>0</td>\n",
              "      <td>0</td>\n",
              "      <td>1</td>\n",
              "    </tr>\n",
              "    <tr>\n",
              "      <th>1</th>\n",
              "      <td>1</td>\n",
              "      <td>1</td>\n",
              "      <td>0</td>\n",
              "      <td>1</td>\n",
              "      <td>0</td>\n",
              "    </tr>\n",
              "    <tr>\n",
              "      <th>2</th>\n",
              "      <td>3</td>\n",
              "      <td>0</td>\n",
              "      <td>0</td>\n",
              "      <td>1</td>\n",
              "      <td>0</td>\n",
              "    </tr>\n",
              "    <tr>\n",
              "      <th>3</th>\n",
              "      <td>1</td>\n",
              "      <td>1</td>\n",
              "      <td>0</td>\n",
              "      <td>1</td>\n",
              "      <td>0</td>\n",
              "    </tr>\n",
              "    <tr>\n",
              "      <th>4</th>\n",
              "      <td>3</td>\n",
              "      <td>0</td>\n",
              "      <td>0</td>\n",
              "      <td>0</td>\n",
              "      <td>1</td>\n",
              "    </tr>\n",
              "  </tbody>\n",
              "</table>\n",
              "</div>\n",
              "      <button class=\"colab-df-convert\" onclick=\"convertToInteractive('df-fce34141-91a8-4d0f-a0df-b1a923f06421')\"\n",
              "              title=\"Convert this dataframe to an interactive table.\"\n",
              "              style=\"display:none;\">\n",
              "        \n",
              "  <svg xmlns=\"http://www.w3.org/2000/svg\" height=\"24px\"viewBox=\"0 0 24 24\"\n",
              "       width=\"24px\">\n",
              "    <path d=\"M0 0h24v24H0V0z\" fill=\"none\"/>\n",
              "    <path d=\"M18.56 5.44l.94 2.06.94-2.06 2.06-.94-2.06-.94-.94-2.06-.94 2.06-2.06.94zm-11 1L8.5 8.5l.94-2.06 2.06-.94-2.06-.94L8.5 2.5l-.94 2.06-2.06.94zm10 10l.94 2.06.94-2.06 2.06-.94-2.06-.94-.94-2.06-.94 2.06-2.06.94z\"/><path d=\"M17.41 7.96l-1.37-1.37c-.4-.4-.92-.59-1.43-.59-.52 0-1.04.2-1.43.59L10.3 9.45l-7.72 7.72c-.78.78-.78 2.05 0 2.83L4 21.41c.39.39.9.59 1.41.59.51 0 1.02-.2 1.41-.59l7.78-7.78 2.81-2.81c.8-.78.8-2.07 0-2.86zM5.41 20L4 18.59l7.72-7.72 1.47 1.35L5.41 20z\"/>\n",
              "  </svg>\n",
              "      </button>\n",
              "      \n",
              "  <style>\n",
              "    .colab-df-container {\n",
              "      display:flex;\n",
              "      flex-wrap:wrap;\n",
              "      gap: 12px;\n",
              "    }\n",
              "\n",
              "    .colab-df-convert {\n",
              "      background-color: #E8F0FE;\n",
              "      border: none;\n",
              "      border-radius: 50%;\n",
              "      cursor: pointer;\n",
              "      display: none;\n",
              "      fill: #1967D2;\n",
              "      height: 32px;\n",
              "      padding: 0 0 0 0;\n",
              "      width: 32px;\n",
              "    }\n",
              "\n",
              "    .colab-df-convert:hover {\n",
              "      background-color: #E2EBFA;\n",
              "      box-shadow: 0px 1px 2px rgba(60, 64, 67, 0.3), 0px 1px 3px 1px rgba(60, 64, 67, 0.15);\n",
              "      fill: #174EA6;\n",
              "    }\n",
              "\n",
              "    [theme=dark] .colab-df-convert {\n",
              "      background-color: #3B4455;\n",
              "      fill: #D2E3FC;\n",
              "    }\n",
              "\n",
              "    [theme=dark] .colab-df-convert:hover {\n",
              "      background-color: #434B5C;\n",
              "      box-shadow: 0px 1px 3px 1px rgba(0, 0, 0, 0.15);\n",
              "      filter: drop-shadow(0px 1px 2px rgba(0, 0, 0, 0.3));\n",
              "      fill: #FFFFFF;\n",
              "    }\n",
              "  </style>\n",
              "\n",
              "      <script>\n",
              "        const buttonEl =\n",
              "          document.querySelector('#df-fce34141-91a8-4d0f-a0df-b1a923f06421 button.colab-df-convert');\n",
              "        buttonEl.style.display =\n",
              "          google.colab.kernel.accessAllowed ? 'block' : 'none';\n",
              "\n",
              "        async function convertToInteractive(key) {\n",
              "          const element = document.querySelector('#df-fce34141-91a8-4d0f-a0df-b1a923f06421');\n",
              "          const dataTable =\n",
              "            await google.colab.kernel.invokeFunction('convertToInteractive',\n",
              "                                                     [key], {});\n",
              "          if (!dataTable) return;\n",
              "\n",
              "          const docLinkHtml = 'Like what you see? Visit the ' +\n",
              "            '<a target=\"_blank\" href=https://colab.research.google.com/notebooks/data_table.ipynb>data table notebook</a>'\n",
              "            + ' to learn more about interactive tables.';\n",
              "          element.innerHTML = '';\n",
              "          dataTable['output_type'] = 'display_data';\n",
              "          await google.colab.output.renderOutput(dataTable, element);\n",
              "          const docLink = document.createElement('div');\n",
              "          docLink.innerHTML = docLinkHtml;\n",
              "          element.appendChild(docLink);\n",
              "        }\n",
              "      </script>\n",
              "    </div>\n",
              "  </div>\n",
              "  "
            ]
          },
          "metadata": {},
          "execution_count": 13
        }
      ]
    },
    {
      "cell_type": "markdown",
      "source": [
        "**初始参数**"
      ],
      "metadata": {
        "id": "-sVomFgGeDMz"
      }
    },
    {
      "cell_type": "code",
      "source": [
        "other_params = {'eta': 0.3, 'n_estimators': 500, 'gamma': 0, 'max_depth': 6, 'min_child_weight': 1,\n",
        "                'colsample_bytree': 1, 'colsample_bylevel': 1, 'subsample': 1, 'reg_lambda': 1, 'reg_alpha': 0,\n",
        "                'seed': 33}\n"
      ],
      "metadata": {
        "id": "bVTOrAkZbUmv"
      },
      "execution_count": null,
      "outputs": []
    },
    {
      "cell_type": "markdown",
      "source": [
        "**调整后的参数**"
      ],
      "metadata": {
        "id": "8aLyZRrVeHdl"
      }
    },
    {
      "cell_type": "code",
      "source": [
        "other_params = {'eta': 0.01, 'n_estimators': 600, 'gamma': 0, 'max_depth': 1, 'min_child_weight': 1,\n",
        "                'colsample_bytree': 1, 'colsample_bylevel': 1, 'subsample': 0.8, 'reg_lambda': 1, 'reg_alpha': 0,\n",
        "                'seed': 33}"
      ],
      "metadata": {
        "id": "Wu5eYDzSeA-m"
      },
      "execution_count": null,
      "outputs": []
    },
    {
      "cell_type": "code",
      "source": [
        "cv_params = {'n_estimators': np.linspace(100, 1000, 10, dtype=int)}\n",
        "regress_model = xgb.XGBClassifier(**other_params)  # 注意这里的两个 * 号！\n",
        "gs = GridSearchCV(regress_model, cv_params, verbose=2, refit=True, cv=5, n_jobs=-1)\n",
        "gs.fit(X_train, y_train)  # X为训练数据的特征值，y为训练数据的label\n",
        "# 性能测评\n",
        "print(\"参数的最佳取值：:\", gs.best_params_)\n",
        "print(\"最佳模型得分:\", gs.best_score_)\n"
      ],
      "metadata": {
        "colab": {
          "base_uri": "https://localhost:8080/"
        },
        "id": "8Rv_sN0eca_4",
        "outputId": "46753e61-c632-42d0-8c6f-2889f5f6f2da"
      },
      "execution_count": null,
      "outputs": [
        {
          "output_type": "stream",
          "name": "stdout",
          "text": [
            "Fitting 5 folds for each of 10 candidates, totalling 50 fits\n",
            "参数的最佳取值：: {'n_estimators': 600}\n",
            "最佳模型得分: 0.7890276818780994\n"
          ]
        }
      ]
    },
    {
      "cell_type": "markdown",
      "source": [
        "**重要特征选择**"
      ],
      "metadata": {
        "id": "oqhRnhGFkzWG"
      }
    },
    {
      "cell_type": "code",
      "source": [
        "# 获取特征重要性\n",
        "importances = regress_model.feature_importances_\n",
        "# 获取特征名称\n",
        "feature_names = X_train.columns\n",
        "# 排序\n",
        "indices = np.argsort(importances)[::-1]\n",
        "#绘图\n",
        "plt.figure(figsize = (12,6))\n",
        "plt.title(\"Feature importances by Decision Tree\")\n",
        "plt.bar(range(len(indices)),importances[indices],color=\"lightblue\",align=\"center\",tick_label=feature_names)\n",
        "plt.step(range(len(indices)),np.cumsum(importances[indices]),where=\"mid\",label=\"Cumulative\")\n",
        "plt.xticks(range(len(indices)),labels=feature_names,rotation=30,fontsize=14)\n",
        "plt.xlim([-1, len(indices)])\n",
        "plt.show()"
      ],
      "metadata": {
        "id": "5CPdeiMYnco-"
      },
      "execution_count": null,
      "outputs": []
    },
    {
      "cell_type": "code",
      "source": [
        "cv_params = {'max_depth': np.linspace(1, 10, 10, dtype=int)}\n",
        "regress_model = xgb.XGBClassifier(**other_params)  # 注意这里的两个 * 号！\n",
        "gs = GridSearchCV(regress_model, cv_params, verbose=2, refit=True, cv=5, n_jobs=-1)\n",
        "gs.fit(X_train, y_train)  # X为训练数据的特征值，y为训练数据的label\n",
        "# 性能测评\n",
        "print(\"参数的最佳取值：:\", gs.best_params_)\n",
        "print(\"最佳模型得分:\", gs.best_score_)\n"
      ],
      "metadata": {
        "colab": {
          "base_uri": "https://localhost:8080/"
        },
        "id": "ucrdy4aQcwZt",
        "outputId": "532929ca-8795-4cae-bfa6-5c9481b5f4eb"
      },
      "execution_count": null,
      "outputs": [
        {
          "output_type": "stream",
          "name": "stdout",
          "text": [
            "Fitting 5 folds for each of 10 candidates, totalling 50 fits\n",
            "参数的最佳取值：: {'max_depth': 1}\n",
            "最佳模型得分: 0.8013621241604418\n"
          ]
        }
      ]
    },
    {
      "cell_type": "code",
      "source": [
        "cv_params = {'min_child_weight': np.linspace(1, 10, 10, dtype=int)}\n",
        "regress_model = xgb.XGBClassifier(**other_params)  # 注意这里的两个 * 号！\n",
        "gs = GridSearchCV(regress_model, cv_params, verbose=2, refit=True, cv=5, n_jobs=-1)\n",
        "gs.fit(X_train, y_train)  # X为训练数据的特征值，y为训练数据的label\n",
        "# 性能测评\n",
        "print(\"参数的最佳取值：:\", gs.best_params_)\n",
        "print(\"最佳模型得分:\", gs.best_score_)\n"
      ],
      "metadata": {
        "colab": {
          "base_uri": "https://localhost:8080/"
        },
        "id": "99oNqE3heiwS",
        "outputId": "13500708-9485-4565-8655-d93b22af01bc"
      },
      "execution_count": null,
      "outputs": [
        {
          "output_type": "stream",
          "name": "stdout",
          "text": [
            "Fitting 5 folds for each of 10 candidates, totalling 50 fits\n",
            "参数的最佳取值：: {'min_child_weight': 1}\n",
            "最佳模型得分: 0.8013621241604418\n"
          ]
        }
      ]
    },
    {
      "cell_type": "code",
      "source": [
        "cv_params = {'gamma': np.linspace(0, 0.1, 11)}\n",
        "regress_model = xgb.XGBClassifier(**other_params)  # 注意这里的两个 * 号！\n",
        "gs = GridSearchCV(regress_model, cv_params, verbose=2, refit=True, cv=5, n_jobs=-1)\n",
        "gs.fit(X_train, y_train)  # X为训练数据的特征值，y为训练数据的label\n",
        "# 性能测评\n",
        "print(\"参数的最佳取值：:\", gs.best_params_)\n",
        "print(\"最佳模型得分:\", gs.best_score_)"
      ],
      "metadata": {
        "colab": {
          "base_uri": "https://localhost:8080/"
        },
        "id": "qxf63K6DfFPw",
        "outputId": "2625092b-b3c6-426a-8e1b-47f45f2c9f1f"
      },
      "execution_count": null,
      "outputs": [
        {
          "output_type": "stream",
          "name": "stdout",
          "text": [
            "Fitting 5 folds for each of 11 candidates, totalling 55 fits\n",
            "参数的最佳取值：: {'gamma': 0.0}\n",
            "最佳模型得分: 0.8013621241604418\n"
          ]
        }
      ]
    },
    {
      "cell_type": "code",
      "source": [
        "cv_params = {'subsample': np.linspace(0, 1, 11)}\n",
        "regress_model = xgb.XGBClassifier(**other_params)  # 注意这里的两个 * 号！\n",
        "gs = GridSearchCV(regress_model, cv_params, verbose=2, refit=True, cv=5, n_jobs=-1)\n",
        "gs.fit(X_train, y_train)  # X为训练数据的特征值，y为训练数据的label\n",
        "# 性能测评\n",
        "print(\"参数的最佳取值：:\", gs.best_params_)\n",
        "print(\"最佳模型得分:\", gs.best_score_)"
      ],
      "metadata": {
        "colab": {
          "base_uri": "https://localhost:8080/"
        },
        "id": "a7ZR_KObfTTe",
        "outputId": "b565edd8-99df-4ba3-ee48-91dd4143e70d"
      },
      "execution_count": null,
      "outputs": [
        {
          "output_type": "stream",
          "name": "stdout",
          "text": [
            "Fitting 5 folds for each of 11 candidates, totalling 55 fits\n",
            "参数的最佳取值：: {'subsample': 0.8}\n",
            "最佳模型得分: 0.8013621241604418\n"
          ]
        }
      ]
    },
    {
      "cell_type": "code",
      "source": [
        "cv_params = {'colsample_bytree': np.linspace(0, 1, 11)[1:]}\n",
        "regress_model = xgb.XGBClassifier(**other_params)  # 注意这里的两个 * 号！\n",
        "gs = GridSearchCV(regress_model, cv_params, verbose=2, refit=True, cv=5, n_jobs=-1)\n",
        "gs.fit(X_train, y_train)  # X为训练数据的特征值，y为训练数据的label\n",
        "# 性能测评\n",
        "print(\"参数的最佳取值：:\", gs.best_params_)\n",
        "print(\"最佳模型得分:\", gs.best_score_)"
      ],
      "metadata": {
        "colab": {
          "base_uri": "https://localhost:8080/"
        },
        "id": "HcTbWBh5fo6d",
        "outputId": "4f42f3fb-4655-4029-814c-8cb819e25a41"
      },
      "execution_count": null,
      "outputs": [
        {
          "output_type": "stream",
          "name": "stdout",
          "text": [
            "Fitting 5 folds for each of 10 candidates, totalling 50 fits\n",
            "参数的最佳取值：: {'colsample_bytree': 1.0}\n",
            "最佳模型得分: 0.8013621241604418\n"
          ]
        }
      ]
    },
    {
      "cell_type": "code",
      "source": [
        "cv_params = {'reg_lambda': np.linspace(0, 100, 11)}\n",
        "regress_model = xgb.XGBClassifier(**other_params)  # 注意这里的两个 * 号！\n",
        "gs = GridSearchCV(regress_model, cv_params, verbose=2, refit=True, cv=5, n_jobs=-1)\n",
        "gs.fit(X_train, y_train)  # X为训练数据的特征值，y为训练数据的label\n",
        "# 性能测评\n",
        "print(\"参数的最佳取值：:\", gs.best_params_)\n",
        "print(\"最佳模型得分:\", gs.best_score_)"
      ],
      "metadata": {
        "colab": {
          "base_uri": "https://localhost:8080/"
        },
        "id": "zcUU_pvSf8Eq",
        "outputId": "854ffeba-47ea-4631-c2c8-be19314a0aaa"
      },
      "execution_count": null,
      "outputs": [
        {
          "output_type": "stream",
          "name": "stdout",
          "text": [
            "Fitting 5 folds for each of 11 candidates, totalling 55 fits\n",
            "参数的最佳取值：: {'reg_lambda': 0.0}\n",
            "最佳模型得分: 0.8002385286548239\n"
          ]
        }
      ]
    },
    {
      "cell_type": "code",
      "source": [
        "cv_params = {'eta': np.logspace(-2, 0, 10)}\n",
        "regress_model = xgb.XGBClassifier(**other_params)  # 注意这里的两个 * 号！\n",
        "gs = GridSearchCV(regress_model, cv_params, verbose=2, refit=True, cv=5, n_jobs=-1)\n",
        "gs.fit(X_train, y_train)  # X为训练数据的特征值，y为训练数据的label\n",
        "# 性能测评\n",
        "print(\"参数的最佳取值：:\", gs.best_params_)\n",
        "print(\"最佳模型得分:\", gs.best_score_)"
      ],
      "metadata": {
        "colab": {
          "base_uri": "https://localhost:8080/"
        },
        "id": "7bh5AoYTgGyF",
        "outputId": "754d6209-40d7-435c-a978-6cb3ac80c717"
      },
      "execution_count": null,
      "outputs": [
        {
          "output_type": "stream",
          "name": "stdout",
          "text": [
            "Fitting 5 folds for each of 10 candidates, totalling 50 fits\n",
            "参数的最佳取值：: {'eta': 0.01}\n",
            "最佳模型得分: 0.8013621241604418\n"
          ]
        }
      ]
    },
    {
      "cell_type": "code",
      "source": [],
      "metadata": {
        "id": "2X4A6QNagafo"
      },
      "execution_count": null,
      "outputs": []
    }
  ]
}